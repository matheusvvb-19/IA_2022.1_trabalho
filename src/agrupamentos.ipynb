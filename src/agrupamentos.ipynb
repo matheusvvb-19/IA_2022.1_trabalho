{
 "cells": [
  {
   "cell_type": "markdown",
   "metadata": {},
   "source": [
    "## Inteligência Artificial 2022.1\n",
    "#### Trabalho 1\n",
    "#### Universidade Federal de São Carlos (UFSCar) - campus Sorocaba\n",
    "\n",
    "Professora responsável: Profa. Dra. Katti Faceli<br>\n",
    "Grupo 10<br>\n",
    "\n",
    "Integrantes do grupo:<br>\n",
    "Arthur Felipe Bravo Pita            RA 770987<br>\n",
    "Matheus Vargas Volpon Berto         RA 771051<br>\n",
    "Pedro Henrique Mendes               RA 771056<br>\n",
    "Wilson Leonardo Marcielo Chaves     RA 771068<br>"
   ]
  },
  {
   "cell_type": "code",
   "execution_count": null,
   "metadata": {},
   "outputs": [],
   "source": [
    "from algoritmos import *"
   ]
  },
  {
   "cell_type": "markdown",
   "metadata": {},
   "source": [
    "# K-médias"
   ]
  },
  {
   "cell_type": "code",
   "execution_count": 43,
   "metadata": {},
   "outputs": [
    {
     "data": {
      "text/html": [
       "<div>\n",
       "<style scoped>\n",
       "    .dataframe tbody tr th:only-of-type {\n",
       "        vertical-align: middle;\n",
       "    }\n",
       "\n",
       "    .dataframe tbody tr th {\n",
       "        vertical-align: top;\n",
       "    }\n",
       "\n",
       "    .dataframe thead th {\n",
       "        text-align: right;\n",
       "    }\n",
       "</style>\n",
       "<table border=\"1\" class=\"dataframe\">\n",
       "  <thead>\n",
       "    <tr style=\"text-align: right;\">\n",
       "      <th></th>\n",
       "      <th>sample_label</th>\n",
       "      <th>d1</th>\n",
       "      <th>d2</th>\n",
       "    </tr>\n",
       "  </thead>\n",
       "  <tbody>\n",
       "    <tr>\n",
       "      <th>0</th>\n",
       "      <td>Homer</td>\n",
       "      <td>40</td>\n",
       "      <td>180</td>\n",
       "    </tr>\n",
       "    <tr>\n",
       "      <th>1</th>\n",
       "      <td>Margie</td>\n",
       "      <td>38</td>\n",
       "      <td>165</td>\n",
       "    </tr>\n",
       "    <tr>\n",
       "      <th>2</th>\n",
       "      <td>Bart</td>\n",
       "      <td>10</td>\n",
       "      <td>150</td>\n",
       "    </tr>\n",
       "    <tr>\n",
       "      <th>3</th>\n",
       "      <td>Liza</td>\n",
       "      <td>8</td>\n",
       "      <td>140</td>\n",
       "    </tr>\n",
       "    <tr>\n",
       "      <th>4</th>\n",
       "      <td>Maggie</td>\n",
       "      <td>4</td>\n",
       "      <td>110</td>\n",
       "    </tr>\n",
       "  </tbody>\n",
       "</table>\n",
       "</div>"
      ],
      "text/plain": [
       "  sample_label  d1   d2\n",
       "0        Homer  40  180\n",
       "1       Margie  38  165\n",
       "2         Bart  10  150\n",
       "3         Liza   8  140\n",
       "4       Maggie   4  110"
      ]
     },
     "execution_count": 43,
     "metadata": {},
     "output_type": "execute_result"
    }
   ],
   "source": [
    "import pandas as pd\n",
    "import numpy as np\n",
    "import random\n",
    "\n",
    "k = 3\n",
    "it = 10\n",
    "\n",
    "df = pd.read_csv('../datasets/test.txt', sep=\"\\t\", header=0)\n",
    "df.head()"
   ]
  },
  {
   "cell_type": "code",
   "execution_count": 75,
   "metadata": {},
   "outputs": [],
   "source": [
    "intervalosPorAtributo = []\n",
    "for col in df.columns[1:]:\n",
    "    intervalo = df[col].agg(['min', 'max'])\n",
    "    intervalosPorAtributo.append(intervalo)\n",
    "\n",
    "centroides = []\n",
    "for i in range(k):\n",
    "    ponto = ()\n",
    "    for intervalo in intervalosPorAtributo:\n",
    "        ponto += (random.randint(intervalo[0], intervalo[1]), )\n",
    "    \n",
    "    centroides.append(ponto)\n",
    "\n",
    "for i in range(k):\n",
    "    distanceTable = {\n",
    "        'object': [],\n",
    "    }\n",
    "\n",
    "    for i in range(len(centroides)):\n",
    "        distanceTable.update({'c%d' % (i+1): []})"
   ]
  },
  {
   "cell_type": "code",
   "execution_count": 76,
   "metadata": {},
   "outputs": [
    {
     "data": {
      "text/plain": [
       "{'object': [], 'c1': [], 'c2': [], 'c3': []}"
      ]
     },
     "execution_count": 76,
     "metadata": {},
     "output_type": "execute_result"
    }
   ],
   "source": [
    "distanceTable"
   ]
  }
 ],
 "metadata": {
  "kernelspec": {
   "display_name": "Python 3.10.0 64-bit",
   "language": "python",
   "name": "python3"
  },
  "language_info": {
   "codemirror_mode": {
    "name": "ipython",
    "version": 3
   },
   "file_extension": ".py",
   "mimetype": "text/x-python",
   "name": "python",
   "nbconvert_exporter": "python",
   "pygments_lexer": "ipython3",
   "version": "3.10.0"
  },
  "orig_nbformat": 4,
  "vscode": {
   "interpreter": {
    "hash": "26de051ba29f2982a8de78e945f0abaf191376122a1563185a90213a26c5da77"
   }
  }
 },
 "nbformat": 4,
 "nbformat_minor": 2
}
