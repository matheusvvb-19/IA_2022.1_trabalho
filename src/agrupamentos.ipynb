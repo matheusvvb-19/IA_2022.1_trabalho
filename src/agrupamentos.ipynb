{
 "cells": [
  {
   "cell_type": "markdown",
   "metadata": {},
   "source": [
    "## Inteligência Artificial 2022.1\n",
    "#### Trabalho 1\n",
    "#### Universidade Federal de São Carlos (UFSCar) - campus Sorocaba\n",
    "\n",
    "Professora responsável: Profa. Dra. Katti Faceli<br>\n",
    "Grupo 10<br>\n",
    "\n",
    "Integrantes do grupo:<br>\n",
    "Arthur Felipe Bravo Pita            RA 770987<br>\n",
    "Matheus Vargas Volpon Berto         RA 771051<br>\n",
    "Pedro Henrique Mendes               RA 771056<br>\n",
    "Wilson Leonardo Marcielo Chaves     RA 771068<br>"
   ]
  },
  {
   "cell_type": "code",
   "execution_count": 3,
   "metadata": {},
   "outputs": [],
   "source": [
    "from algoritmos import *"
   ]
  },
  {
   "cell_type": "markdown",
   "metadata": {},
   "source": [
    "# K-médias"
   ]
  },
  {
   "cell_type": "code",
   "execution_count": 4,
   "metadata": {},
   "outputs": [
    {
     "ename": "KeyboardInterrupt",
     "evalue": "",
     "output_type": "error",
     "traceback": [
      "\u001b[1;31m---------------------------------------------------------------------------\u001b[0m",
      "\u001b[1;31mKeyboardInterrupt\u001b[0m                         Traceback (most recent call last)",
      "\u001b[1;32mc:\\Users\\mathe\\Desktop\\IA_2022.1_trabalho\\src\\agrupamentos.ipynb Célula: 4\u001b[0m in \u001b[0;36m<cell line: 1>\u001b[1;34m()\u001b[0m\n\u001b[1;32m----> <a href='vscode-notebook-cell:/c%3A/Users/mathe/Desktop/IA_2022.1_trabalho/src/agrupamentos.ipynb#X24sZmlsZQ%3D%3D?line=0'>1</a>\u001b[0m k_means(\u001b[39m'\u001b[39;49m\u001b[39m../datasets/test.txt\u001b[39;49m\u001b[39m'\u001b[39;49m, k\u001b[39m=\u001b[39;49m\u001b[39m3\u001b[39;49m, it\u001b[39m=\u001b[39;49m\u001b[39m3\u001b[39;49m)\n",
      "File \u001b[1;32mc:\\Users\\mathe\\Desktop\\IA_2022.1_trabalho\\src\\algoritmos.py:23\u001b[0m, in \u001b[0;36mk_means\u001b[1;34m(dataset, k, it)\u001b[0m\n\u001b[0;32m     21\u001b[0m centroids \u001b[39m=\u001b[39m []\n\u001b[0;32m     22\u001b[0m \u001b[39mfor\u001b[39;00m i \u001b[39min\u001b[39;00m \u001b[39mrange\u001b[39m(k):\n\u001b[1;32m---> 23\u001b[0m     \u001b[39mwhile\u001b[39;00m \u001b[39mTrue\u001b[39;00m:\n\u001b[0;32m     24\u001b[0m         ponto \u001b[39m=\u001b[39m ()\n\u001b[0;32m     25\u001b[0m         \u001b[39mfor\u001b[39;00m intervalo \u001b[39min\u001b[39;00m intervalosPorAtributo:\n",
      "\u001b[1;31mKeyboardInterrupt\u001b[0m: "
     ]
    }
   ],
   "source": [
    "k_means('../datasets/test.txt', k=3, it=3)"
   ]
  }
 ],
 "metadata": {
  "kernelspec": {
   "display_name": "Python 3.10.0 64-bit",
   "language": "python",
   "name": "python3"
  },
  "language_info": {
   "codemirror_mode": {
    "name": "ipython",
    "version": 3
   },
   "file_extension": ".py",
   "mimetype": "text/x-python",
   "name": "python",
   "nbconvert_exporter": "python",
   "pygments_lexer": "ipython3",
   "version": "3.10.0"
  },
  "orig_nbformat": 4,
  "vscode": {
   "interpreter": {
    "hash": "26de051ba29f2982a8de78e945f0abaf191376122a1563185a90213a26c5da77"
   }
  }
 },
 "nbformat": 4,
 "nbformat_minor": 2
}
