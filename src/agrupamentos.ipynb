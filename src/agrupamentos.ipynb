{
 "cells": [
  {
   "cell_type": "markdown",
   "metadata": {},
   "source": [
    "## Inteligência Artificial 2022.1\n",
    "#### Trabalho 1\n",
    "#### Universidade Federal de São Carlos (UFSCar) - campus Sorocaba\n",
    "\n",
    "Professora responsável: Profa. Dra. Katti Faceli<br>\n",
    "Grupo 10<br>\n",
    "\n",
    "Integrantes do grupo:<br>\n",
    "Arthur Felipe Bravo Pita            RA 770987<br>\n",
    "Matheus Vargas Volpon Berto         RA 771051<br>\n",
    "Pedro Henrique Mendes               RA 771056<br>\n",
    "Wilson Leonardo Marcielo Chaves     RA 771068<br>"
   ]
  },
  {
   "cell_type": "code",
   "execution_count": 1,
   "metadata": {},
   "outputs": [],
   "source": [
    "from algoritmos import *"
   ]
  },
  {
   "cell_type": "markdown",
   "metadata": {},
   "source": [
    "## K-médias"
   ]
  },
  {
   "cell_type": "code",
   "execution_count": null,
   "metadata": {},
   "outputs": [],
   "source": [
    "# arquivo de entrada 1:\n",
    "k_means('../datasets/c2ds1-2sp.txt', k=2, it=10)\n",
    "k_means('../datasets/c2ds1-2sp.txt', k=3, it=10)\n",
    "k_means('../datasets/c2ds1-2sp.txt', k=4, it=10)\n",
    "k_means('../datasets/c2ds1-2sp.txt', k=5, it=10)\n",
    "\n",
    "# arquivo de entrada 2:\n",
    "k_means('../datasets/c2ds3-2g.txt', k=2, it=10)\n",
    "k_means('../datasets/c2ds3-2g.txt', k=3, it=10)\n",
    "k_means('../datasets/c2ds3-2g.txt', k=4, it=10)\n",
    "k_means('../datasets/c2ds3-2g.txt', k=5, it=10)\n",
    "\n",
    "# arquivo de entrada 3:\n",
    "k_means('../datasets/monkey.txt', k=5, it=10)\n",
    "k_means('../datasets/monkey.txt', k=6, it=10)\n",
    "k_means('../datasets/monkey.txt', k=7, it=10)\n",
    "k_means('../datasets/monkey.txt', k=8, it=10)\n",
    "k_means('../datasets/monkey.txt', k=9, it=10)\n",
    "k_means('../datasets/monkey.txt', k=10, it=10)\n",
    "k_means('../datasets/monkey.txt', k=11, it=10)\n",
    "k_means('../datasets/monkey.txt', k=12, it=10)"
   ]
  },
  {
   "cell_type": "markdown",
   "metadata": {},
   "source": [
    "## Single-Link"
   ]
  },
  {
   "cell_type": "code",
   "execution_count": 2,
   "metadata": {},
   "outputs": [],
   "source": [
    "# arquivo de entrada 1:\n",
    "hierarquic_link('../datasets/c2ds1-2sp.txt', k_min=2, k_max=5, strategy='single-link')\n",
    "\n",
    "# arquivo de entrada 2:\n",
    "hierarquic_link('../datasets/c2ds3-2g.txt', k_min=2, k_max=5, strategy='single-link')\n",
    "\n",
    "# arquivo de entrada 3:\n",
    "hierarquic_link('../datasets/monkey.txt', k_min=5, k_max=12, strategy='single-link')"
   ]
  },
  {
   "cell_type": "markdown",
   "metadata": {},
   "source": [
    "## Complete-Link"
   ]
  },
  {
   "cell_type": "code",
   "execution_count": null,
   "metadata": {},
   "outputs": [],
   "source": [
    "# arquivo de entrada 1:\n",
    "hierarquic_link('../datasets/c2ds1-2sp.txt', k_min=2, k_max=5, strategy='complete-link')\n",
    "\n",
    "# arquivo de entrada 2:\n",
    "hierarquic_link('../datasets/c2ds3-2g.txt', k_min=2, k_max=5, strategy='complete-link')\n",
    "\n",
    "# arquivo de entrada 3:\n",
    "hierarquic_link('../datasets/monkey.txt', k_min=5, k_max=12, strategy='complete-link')"
   ]
  },
  {
   "cell_type": "markdown",
   "metadata": {},
   "source": [
    "## Resultados"
   ]
  },
  {
   "cell_type": "code",
   "execution_count": null,
   "metadata": {},
   "outputs": [],
   "source": [
    "\"\"\" Trocar os parâmetros abaixo para cada análise:\n",
    "    realPartitionPath: caminho para o arquivo que contém a partição real do conjunto de dados, está na pasta datasets;\n",
    "    testPartitionPath: caminho para o arquivo que contém a partição gerada pelos nossos algoritmos, está na pasta output.\n",
    "\"\"\"\n",
    "adjusted_rand_index(realPartitionPath=\"../datasets/c2ds1-2spReal.clu\", testPartitionPath=\"../output/kmeans_c2ds1-2sp.clu\")"
   ]
  },
  {
   "cell_type": "code",
   "execution_count": null,
   "metadata": {},
   "outputs": [],
   "source": [
    "\"\"\" Trocar os parâmetros abaixo para cada análise:\n",
    "    partition: caminho para o arquivo que contém a partição gerada pelos nossos algoritmos, está na pasta output;\n",
    "    dataset: caminho para o arquivo que contém o conjunto de dados de entrada utilizado para geração da partição anterior, está na pasta datasets.\n",
    "\"\"\"\n",
    "plot_partition(partition='../output/kmeans_c2ds1-2sp.clu', dataset='../datasets/c2ds1-2sp.txt')"
   ]
  },
  {
   "cell_type": "code",
   "execution_count": null,
   "metadata": {},
   "outputs": [],
   "source": [
    "\"\"\" Trocar o parâmetro abaixo para cada análise:\n",
    "    dataset: nome do arquivo de entrada que se deseja analisar, não é necessária a extensão.\n",
    "\"\"\"\n",
    "ar_bar_plot(dataset='c2ds1-2sp')"
   ]
  }
 ],
 "metadata": {
  "kernelspec": {
   "display_name": "Python 3.8.10 64-bit",
   "language": "python",
   "name": "python3"
  },
  "language_info": {
   "codemirror_mode": {
    "name": "ipython",
    "version": 3
   },
   "file_extension": ".py",
   "mimetype": "text/x-python",
   "name": "python",
   "nbconvert_exporter": "python",
   "pygments_lexer": "ipython3",
   "version": "3.8.10"
  },
  "orig_nbformat": 4,
  "vscode": {
   "interpreter": {
    "hash": "916dbcbb3f70747c44a77c7bcd40155683ae19c65e1c03b4aa3499c5328201f1"
   }
  }
 },
 "nbformat": 4,
 "nbformat_minor": 2
}
