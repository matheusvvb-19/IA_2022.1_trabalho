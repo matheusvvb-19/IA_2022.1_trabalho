{
 "cells": [
  {
   "cell_type": "markdown",
   "metadata": {},
   "source": [
    "## Inteligência Artificial 2022.1\n",
    "#### Trabalho 1\n",
    "#### Universidade Federal de São Carlos (UFSCar) - campus Sorocaba\n",
    "\n",
    "Professora responsável: Profa. Dra. Katti Faceli<br>\n",
    "Grupo 10<br>\n",
    "\n",
    "Integrantes do grupo:<br>\n",
    "Arthur Felipe Bravo Pita            RA 770987<br>\n",
    "Matheus Vargas Volpon Berto         RA 771051<br>\n",
    "Pedro Henrique Mendes               RA 771056<br>\n",
    "Wilson Leonardo Marcielo Chaves     RA 771068<br>"
   ]
  },
  {
   "cell_type": "code",
   "execution_count": 1,
   "metadata": {},
   "outputs": [],
   "source": [
    "from algoritmos import *"
   ]
  },
  {
   "cell_type": "markdown",
   "metadata": {},
   "source": [
    "# K-médias"
   ]
  },
  {
   "cell_type": "code",
   "execution_count": null,
   "metadata": {},
   "outputs": [],
   "source": [
    "k_means('../datasets/c2ds1-2sp.txt', k=3, it=3)"
   ]
  },
  {
   "cell_type": "code",
   "execution_count": 2,
   "metadata": {},
   "outputs": [],
   "source": [
    "hierarquic_link('../datasets/test.txt', k_min=3, k_max=7, strategy='single-link')\n",
    "# verificar se tem objetos com nomes diferentes e atributos iguais nos arquivos de entrada"
   ]
  },
  {
   "cell_type": "code",
   "execution_count": null,
   "metadata": {},
   "outputs": [],
   "source": [
    "plot_partition(partition='../output/kmeans_c2ds1-2sp.clu', dataset='../datasets/c2ds1-2sp.txt')"
   ]
  },
  {
   "cell_type": "code",
   "execution_count": null,
   "metadata": {},
   "outputs": [],
   "source": [
    "adjusted_rand_index(realPartitionPath=\"../datasets/c2ds1-2spReal.clu\", testPartitionPath=\"../output/kmeans_c2ds1-2sp.clu\")"
   ]
  }
 ],
 "metadata": {
  "kernelspec": {
   "display_name": "Python 3.8.10 64-bit",
   "language": "python",
   "name": "python3"
  },
  "language_info": {
   "codemirror_mode": {
    "name": "ipython",
    "version": 3
   },
   "file_extension": ".py",
   "mimetype": "text/x-python",
   "name": "python",
   "nbconvert_exporter": "python",
   "pygments_lexer": "ipython3",
   "version": "3.8.10"
  },
  "orig_nbformat": 4,
  "vscode": {
   "interpreter": {
    "hash": "916dbcbb3f70747c44a77c7bcd40155683ae19c65e1c03b4aa3499c5328201f1"
   }
  }
 },
 "nbformat": 4,
 "nbformat_minor": 2
}
